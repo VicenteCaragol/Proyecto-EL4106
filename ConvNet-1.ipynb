{
 "cells": [
  {
   "cell_type": "code",
   "execution_count": 1,
   "metadata": {},
   "outputs": [],
   "source": [
    "import numpy as np\n",
    "import matplotlib.pyplot as plt\n",
    "import os\n",
    "from scipy.io import loadmat\n",
    "import tensorflow as tf\n",
    "from tensorflow.keras.models import Sequential\n",
    "from tensorflow.keras.layers import Dense, Dropout, Activation, Flatten, Conv1D, MaxPooling1D\n",
    "from tensorflow.keras import backend as K\n",
    "from tensorflow.keras.models import Model\n",
    "import pickle"
   ]
  },
  {
   "cell_type": "code",
   "execution_count": 2,
   "metadata": {},
   "outputs": [
    {
     "name": "stdout",
     "output_type": "stream",
     "text": [
      "2700\n"
     ]
    }
   ],
   "source": [
    "Categories= [\"cyl\",\"hook\",\"lat\",\"palm\",\"spher\",\"tip\"]\n",
    "pickle_in= open(\"Dicc.pickle\",\"rb\")\n",
    "Data=pickle.load(pickle_in)\n",
    "#Armarse los arrays\n",
    "training_data=[]\n",
    "def create_training_data():\n",
    "    for category in Categories:\n",
    "        DataCategory=Data[category]\n",
    "        class_number=Categories.index(category)\n",
    "        for i in range(len(DataCategory)):\n",
    "            Arrays=DataCategory[i]\n",
    "            training_data.append([Arrays,class_number])\n",
    "                                 \n",
    "create_training_data()\n",
    "print(len(training_data))"
   ]
  },
  {
   "cell_type": "code",
   "execution_count": 3,
   "metadata": {},
   "outputs": [],
   "source": [
    "import random\n",
    "\n",
    "random.shuffle(training_data)"
   ]
  },
  {
   "cell_type": "code",
   "execution_count": 5,
   "metadata": {},
   "outputs": [],
   "source": [
    "X=[]\n",
    "Y=[]\n",
    "\n",
    "for data,label in training_data:\n",
    "    X.append(data)\n",
    "    Y.append(label)\n",
    "\n",
    "X= np.array(X).reshape(-1,2500,2)\n",
    "Y= np.array(Y).reshape(-1)"
   ]
  },
  {
   "cell_type": "code",
   "execution_count": 6,
   "metadata": {},
   "outputs": [],
   "source": [
    "\n",
    "\n",
    "pickle_out= open(\"X.pickle\",\"wb\")\n",
    "pickle.dump(X, pickle_out)\n",
    "pickle_out.close()\n",
    "\n",
    "pickle_out= open(\"Y.pickle\",\"wb\")\n",
    "pickle.dump(Y, pickle_out)\n",
    "pickle_out.close()\n",
    "\n"
   ]
  },
  {
   "cell_type": "code",
   "execution_count": 7,
   "metadata": {},
   "outputs": [
    {
     "name": "stdout",
     "output_type": "stream",
     "text": [
      "WARNING:tensorflow:From C:\\Users\\vicen\\Anaconda2\\lib\\site-packages\\tensorflow\\python\\ops\\resource_variable_ops.py:435: colocate_with (from tensorflow.python.framework.ops) is deprecated and will be removed in a future version.\n",
      "Instructions for updating:\n",
      "Colocations handled automatically by placer.\n"
     ]
    }
   ],
   "source": [
    "#Convolutional Network\n",
    "tf.keras.utils.normalize(X)\n",
    "\n",
    "model=Sequential()\n",
    "model.add(Conv1D(filters= 6, kernel_size= 7, input_shape = X.shape[1:]))\n",
    "model.add(Activation('relu'))\n",
    "model.add(MaxPooling1D(pool_size=3)) \n",
    "\n",
    "model.add(Conv1D(filters= 12, kernel_size= 7))\n",
    "model.add(Activation('relu'))\n",
    "model.add(MaxPooling1D(pool_size=3)) \n",
    "\n",
    "model.add(Flatten(name = 'my_layer'))\n",
    "model.add(Dense(200))\n",
    "model.add(Activation('relu'))\n",
    "\n",
    "model.add(Dense(100))\n",
    "model.add(Activation('relu'))\n",
    "\n",
    "model.add(Dense(6, activation='softmax'))\n",
    "\n",
    "\n",
    "model.compile(loss='sparse_categorical_crossentropy', optimizer = 'adam', metrics = ['accuracy'])"
   ]
  },
  {
   "cell_type": "code",
   "execution_count": 8,
   "metadata": {},
   "outputs": [
    {
     "name": "stdout",
     "output_type": "stream",
     "text": [
      "Train on 1889 samples, validate on 811 samples\n",
      "Epoch 1/15\n",
      "1889/1889 [==============================] - 2s 1ms/sample - loss: 1.6549 - acc: 0.2927 - val_loss: 1.5228 - val_acc: 0.3477\n",
      "Epoch 2/15\n",
      "1889/1889 [==============================] - 2s 1ms/sample - loss: 1.2791 - acc: 0.4960 - val_loss: 1.3985 - val_acc: 0.4192\n",
      "Epoch 3/15\n",
      "1889/1889 [==============================] - 2s 1ms/sample - loss: 1.0592 - acc: 0.5696 - val_loss: 1.2902 - val_acc: 0.4846\n",
      "Epoch 4/15\n",
      "1889/1889 [==============================] - 2s 1ms/sample - loss: 0.8472 - acc: 0.6617 - val_loss: 1.2412 - val_acc: 0.5351\n",
      "Epoch 5/15\n",
      "1889/1889 [==============================] - 2s 1ms/sample - loss: 0.8013 - acc: 0.7073 - val_loss: 1.1295 - val_acc: 0.5697\n",
      "Epoch 6/15\n",
      "1889/1889 [==============================] - 2s 1ms/sample - loss: 0.6527 - acc: 0.7470 - val_loss: 0.9555 - val_acc: 0.6313\n",
      "Epoch 7/15\n",
      "1889/1889 [==============================] - 2s 1ms/sample - loss: 0.5053 - acc: 0.8057 - val_loss: 1.0102 - val_acc: 0.6042\n",
      "Epoch 8/15\n",
      "1889/1889 [==============================] - 2s 1ms/sample - loss: 0.3858 - acc: 0.8687 - val_loss: 0.9231 - val_acc: 0.6584\n",
      "Epoch 9/15\n",
      "1889/1889 [==============================] - 2s 1ms/sample - loss: 0.2939 - acc: 0.9005 - val_loss: 0.9818 - val_acc: 0.6486\n",
      "Epoch 10/15\n",
      "1889/1889 [==============================] - 2s 1ms/sample - loss: 0.2408 - acc: 0.9259 - val_loss: 1.0532 - val_acc: 0.6510\n",
      "Epoch 11/15\n",
      "1889/1889 [==============================] - 2s 1ms/sample - loss: 0.2010 - acc: 0.9444 - val_loss: 0.9792 - val_acc: 0.6621\n",
      "Epoch 12/15\n",
      "1889/1889 [==============================] - 2s 1ms/sample - loss: 0.1212 - acc: 0.9741 - val_loss: 1.3041 - val_acc: 0.6104\n",
      "Epoch 13/15\n",
      "1889/1889 [==============================] - 2s 1ms/sample - loss: 0.1291 - acc: 0.9661 - val_loss: 1.2418 - val_acc: 0.6363\n",
      "Epoch 14/15\n",
      "1889/1889 [==============================] - 2s 1ms/sample - loss: 0.0731 - acc: 0.9894 - val_loss: 1.2375 - val_acc: 0.6523\n",
      "Epoch 15/15\n",
      "1889/1889 [==============================] - 2s 1ms/sample - loss: 0.0681 - acc: 0.9868 - val_loss: 1.2383 - val_acc: 0.6387\n"
     ]
    },
    {
     "data": {
      "text/plain": [
       "<tensorflow.python.keras.callbacks.History at 0x25cc4548438>"
      ]
     },
     "execution_count": 8,
     "metadata": {},
     "output_type": "execute_result"
    }
   ],
   "source": [
    "model.fit(X,Y, batch_size=32, epochs=15, validation_split=0.3)"
   ]
  },
  {
   "cell_type": "code",
   "execution_count": null,
   "metadata": {},
   "outputs": [],
   "source": []
  },
  {
   "cell_type": "code",
   "execution_count": 9,
   "metadata": {},
   "outputs": [
    {
     "name": "stdout",
     "output_type": "stream",
     "text": [
      "(2700, 3300)\n"
     ]
    }
   ],
   "source": [
    "#Obtencion de salida de capa de caracteristicas\n",
    "layer_name = 'my_layer'\n",
    "intermediate_layer_model = Model(inputs=model.input,\n",
    "                                 outputs=model.get_layer(layer_name).output)\n",
    "intermediate_output = intermediate_layer_model.predict(X)\n",
    "print(intermediate_output.shape)\n",
    "pickle_out= open(\"output.pickle\",\"wb\")\n",
    "pickle.dump(intermediate_output, pickle_out)\n",
    "pickle_out.close()"
   ]
  },
  {
   "cell_type": "code",
   "execution_count": null,
   "metadata": {},
   "outputs": [],
   "source": []
  },
  {
   "cell_type": "code",
   "execution_count": null,
   "metadata": {},
   "outputs": [],
   "source": []
  },
  {
   "cell_type": "code",
   "execution_count": null,
   "metadata": {},
   "outputs": [],
   "source": []
  }
 ],
 "metadata": {
  "kernelspec": {
   "display_name": "Python 3",
   "language": "python",
   "name": "python3"
  },
  "language_info": {
   "codemirror_mode": {
    "name": "ipython",
    "version": 3
   },
   "file_extension": ".py",
   "mimetype": "text/x-python",
   "name": "python",
   "nbconvert_exporter": "python",
   "pygments_lexer": "ipython3",
   "version": "3.7.0"
  }
 },
 "nbformat": 4,
 "nbformat_minor": 2
}
